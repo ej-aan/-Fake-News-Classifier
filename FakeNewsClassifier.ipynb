{
  "cells": [
    {
      "cell_type": "markdown",
      "metadata": {
        "id": "XBD-HLKl1Xf5"
      },
      "source": [
        "Imort Library"
      ]
    },
    {
      "cell_type": "code",
      "execution_count": 1,
      "metadata": {
        "colab": {
          "base_uri": "https://localhost:8080/"
        },
        "id": "LQUgJAl91R5C",
        "outputId": "cebc2ea6-f960-43fc-d08f-326172339713"
      },
      "outputs": [
        {
          "name": "stderr",
          "output_type": "stream",
          "text": [
            "[nltk_data] Downloading package stopwords to\n",
            "[nltk_data]     C:\\Users\\Z\\AppData\\Roaming\\nltk_data...\n",
            "[nltk_data]   Package stopwords is already up-to-date!\n",
            "[nltk_data] Downloading package wordnet to\n",
            "[nltk_data]     C:\\Users\\Z\\AppData\\Roaming\\nltk_data...\n",
            "[nltk_data]   Package wordnet is already up-to-date!\n"
          ]
        },
        {
          "data": {
            "text/plain": [
              "True"
            ]
          },
          "execution_count": 1,
          "metadata": {},
          "output_type": "execute_result"
        }
      ],
      "source": [
        "import pandas as pd\n",
        "import numpy as np\n",
        "import re\n",
        "import string\n",
        "import nltk\n",
        "from nltk.corpus import stopwords\n",
        "from nltk.stem import WordNetLemmatizer\n",
        "from sklearn.model_selection import train_test_split, GridSearchCV\n",
        "from sklearn.feature_extraction.text import TfidfVectorizer\n",
        "from sklearn.naive_bayes import MultinomialNB\n",
        "from sklearn.linear_model import LogisticRegression\n",
        "from sklearn.svm import SVC\n",
        "from sklearn.ensemble import GradientBoostingClassifier, VotingClassifier\n",
        "from sklearn.metrics import accuracy_score, classification_report, confusion_matrix\n",
        "import seaborn as sns\n",
        "import matplotlib.pyplot as plt\n",
        "\n",
        "# Download necessary NLTK data\n",
        "nltk.download('stopwords')\n",
        "nltk.download('wordnet')"
      ]
    },
    {
      "cell_type": "code",
      "execution_count": 2,
      "metadata": {
        "id": "xkOZ9Vsn2HRw"
      },
      "outputs": [],
      "source": [
        "data_path = r'C:\\Users\\Z\\Documents\\Farhan\\DS bootcamp\\news.csv'"
      ]
    },
    {
      "cell_type": "code",
      "execution_count": 3,
      "metadata": {
        "id": "3cpdObvr2gr7"
      },
      "outputs": [],
      "source": [
        "try:\n",
        "    df = pd.read_csv(data_path)\n",
        "except pd.errors.ParserError as e:\n",
        "    print(f\"ParserError: {e}\")"
      ]
    },
    {
      "cell_type": "code",
      "execution_count": 4,
      "metadata": {
        "id": "EyaV-tAn2q2D"
      },
      "outputs": [
        {
          "name": "stderr",
          "output_type": "stream",
          "text": [
            "C:\\Users\\Z\\AppData\\Local\\Temp\\ipykernel_21388\\785967007.py:3: FutureWarning: Downcasting behavior in `replace` is deprecated and will be removed in a future version. To retain the old behavior, explicitly call `result.infer_objects(copy=False)`. To opt-in to the future behavior, set `pd.set_option('future.no_silent_downcasting', True)`\n",
            "  df['label'] = df['label'].replace({'FAKE': 0, 'REAL': 1})\n"
          ]
        }
      ],
      "source": [
        "# Data Cleaning\n",
        "df['news'] = df['title'] + df['text']\n",
        "df['label'] = df['label'].replace({'FAKE': 0, 'REAL': 1})\n",
        "df = df.drop(columns=['Unnamed: 0'])"
      ]
    },
    {
      "cell_type": "code",
      "execution_count": 5,
      "metadata": {
        "colab": {
          "base_uri": "https://localhost:8080/",
          "height": 206
        },
        "id": "oVUGLiWs2tuT",
        "outputId": "3f2aa561-4a72-45aa-f892-ddeaf786868d"
      },
      "outputs": [
        {
          "data": {
            "text/html": [
              "<div>\n",
              "<style scoped>\n",
              "    .dataframe tbody tr th:only-of-type {\n",
              "        vertical-align: middle;\n",
              "    }\n",
              "\n",
              "    .dataframe tbody tr th {\n",
              "        vertical-align: top;\n",
              "    }\n",
              "\n",
              "    .dataframe thead th {\n",
              "        text-align: right;\n",
              "    }\n",
              "</style>\n",
              "<table border=\"1\" class=\"dataframe\">\n",
              "  <thead>\n",
              "    <tr style=\"text-align: right;\">\n",
              "      <th></th>\n",
              "      <th>title</th>\n",
              "      <th>text</th>\n",
              "      <th>label</th>\n",
              "      <th>news</th>\n",
              "    </tr>\n",
              "  </thead>\n",
              "  <tbody>\n",
              "    <tr>\n",
              "      <th>0</th>\n",
              "      <td>You Can Smell Hillary’s Fear</td>\n",
              "      <td>Daniel Greenfield, a Shillman Journalism Fello...</td>\n",
              "      <td>0</td>\n",
              "      <td>You Can Smell Hillary’s FearDaniel Greenfield,...</td>\n",
              "    </tr>\n",
              "    <tr>\n",
              "      <th>1</th>\n",
              "      <td>Watch The Exact Moment Paul Ryan Committed Pol...</td>\n",
              "      <td>Google Pinterest Digg Linkedin Reddit Stumbleu...</td>\n",
              "      <td>0</td>\n",
              "      <td>Watch The Exact Moment Paul Ryan Committed Pol...</td>\n",
              "    </tr>\n",
              "    <tr>\n",
              "      <th>2</th>\n",
              "      <td>Kerry to go to Paris in gesture of sympathy</td>\n",
              "      <td>U.S. Secretary of State John F. Kerry said Mon...</td>\n",
              "      <td>1</td>\n",
              "      <td>Kerry to go to Paris in gesture of sympathyU.S...</td>\n",
              "    </tr>\n",
              "    <tr>\n",
              "      <th>3</th>\n",
              "      <td>Bernie supporters on Twitter erupt in anger ag...</td>\n",
              "      <td>— Kaydee King (@KaydeeKing) November 9, 2016 T...</td>\n",
              "      <td>0</td>\n",
              "      <td>Bernie supporters on Twitter erupt in anger ag...</td>\n",
              "    </tr>\n",
              "    <tr>\n",
              "      <th>4</th>\n",
              "      <td>The Battle of New York: Why This Primary Matters</td>\n",
              "      <td>It's primary day in New York and front-runners...</td>\n",
              "      <td>1</td>\n",
              "      <td>The Battle of New York: Why This Primary Matte...</td>\n",
              "    </tr>\n",
              "  </tbody>\n",
              "</table>\n",
              "</div>"
            ],
            "text/plain": [
              "                                               title  \\\n",
              "0                       You Can Smell Hillary’s Fear   \n",
              "1  Watch The Exact Moment Paul Ryan Committed Pol...   \n",
              "2        Kerry to go to Paris in gesture of sympathy   \n",
              "3  Bernie supporters on Twitter erupt in anger ag...   \n",
              "4   The Battle of New York: Why This Primary Matters   \n",
              "\n",
              "                                                text  label  \\\n",
              "0  Daniel Greenfield, a Shillman Journalism Fello...      0   \n",
              "1  Google Pinterest Digg Linkedin Reddit Stumbleu...      0   \n",
              "2  U.S. Secretary of State John F. Kerry said Mon...      1   \n",
              "3  — Kaydee King (@KaydeeKing) November 9, 2016 T...      0   \n",
              "4  It's primary day in New York and front-runners...      1   \n",
              "\n",
              "                                                news  \n",
              "0  You Can Smell Hillary’s FearDaniel Greenfield,...  \n",
              "1  Watch The Exact Moment Paul Ryan Committed Pol...  \n",
              "2  Kerry to go to Paris in gesture of sympathyU.S...  \n",
              "3  Bernie supporters on Twitter erupt in anger ag...  \n",
              "4  The Battle of New York: Why This Primary Matte...  "
            ]
          },
          "execution_count": 5,
          "metadata": {},
          "output_type": "execute_result"
        }
      ],
      "source": [
        "df.head()"
      ]
    },
    {
      "cell_type": "markdown",
      "metadata": {
        "id": "XI1YZeI7J8d9"
      },
      "source": [
        "Steming & Stopwords"
      ]
    },
    {
      "cell_type": "code",
      "execution_count": 6,
      "metadata": {
        "id": "Khf6WiPWtRCd"
      },
      "outputs": [],
      "source": [
        "# Initialize PorterStemmer, Lemmatizer and stopwords\n",
        "lemmatizer = WordNetLemmatizer()\n",
        "stopwords_set = set(stopwords.words('english'))"
      ]
    },
    {
      "cell_type": "code",
      "execution_count": 7,
      "metadata": {
        "id": "FaUjQmsEGp7w"
      },
      "outputs": [],
      "source": [
        "def clean(text):\n",
        "    text = str(text).lower()\n",
        "    text = re.sub(r'\\[.*?\\]', '', text)\n",
        "    text = re.sub(r'https?://\\S+|www\\.\\S+', '', text)\n",
        "    text = re.sub(r'<.*?>+', '', text)\n",
        "    text = re.sub(r'[%s]' % re.escape(string.punctuation), '', text)\n",
        "    text = re.sub(r'\\n', '', text)\n",
        "    text = re.sub(r'\\w*\\d\\w*', '', text)\n",
        "    text = ' '.join([word for word in text.split() if word not in stopwords_set])\n",
        "    text = ' '.join([lemmatizer.lemmatize(word) for word in text.split()])\n",
        "    return text"
      ]
    },
    {
      "cell_type": "code",
      "execution_count": 8,
      "metadata": {
        "colab": {
          "base_uri": "https://localhost:8080/"
        },
        "id": "0V8iRNqAtard",
        "outputId": "94d44fd2-3882-4ebf-ea21-510973ddd580"
      },
      "outputs": [
        {
          "name": "stdout",
          "output_type": "stream",
          "text": [
            "                                               title  \\\n",
            "0                       You Can Smell Hillary’s Fear   \n",
            "1  Watch The Exact Moment Paul Ryan Committed Pol...   \n",
            "2        Kerry to go to Paris in gesture of sympathy   \n",
            "3  Bernie supporters on Twitter erupt in anger ag...   \n",
            "4   The Battle of New York: Why This Primary Matters   \n",
            "\n",
            "                                                text  label  \\\n",
            "0  Daniel Greenfield, a Shillman Journalism Fello...      0   \n",
            "1  Google Pinterest Digg Linkedin Reddit Stumbleu...      0   \n",
            "2  U.S. Secretary of State John F. Kerry said Mon...      1   \n",
            "3  — Kaydee King (@KaydeeKing) November 9, 2016 T...      0   \n",
            "4  It's primary day in New York and front-runners...      1   \n",
            "\n",
            "                                                news  \\\n",
            "0  You Can Smell Hillary’s FearDaniel Greenfield,...   \n",
            "1  Watch The Exact Moment Paul Ryan Committed Pol...   \n",
            "2  Kerry to go to Paris in gesture of sympathyU.S...   \n",
            "3  Bernie supporters on Twitter erupt in anger ag...   \n",
            "4  The Battle of New York: Why This Primary Matte...   \n",
            "\n",
            "                                        cleaned_text  \\\n",
            "0  daniel greenfield shillman journalism fellow f...   \n",
            "1  google pinterest digg linkedin reddit stumbleu...   \n",
            "2  u secretary state john f kerry said monday sto...   \n",
            "3  — kaydee king kaydeeking november lesson tonig...   \n",
            "4  primary day new york frontrunners hillary clin...   \n",
            "\n",
            "                                       cleaned_title  \n",
            "0                               smell hillary’s fear  \n",
            "1  watch exact moment paul ryan committed politic...  \n",
            "2                    kerry go paris gesture sympathy  \n",
            "3  bernie supporter twitter erupt anger dnc tried...  \n",
            "4                     battle new york primary matter  \n"
          ]
        }
      ],
      "source": [
        "df['cleaned_text'] = df['text'].apply(clean)\n",
        "df['cleaned_title'] = df['title'].apply(clean)\n",
        "\n",
        "# Display the first few rows of the DataFrame to check the results\n",
        "print(df.head())"
      ]
    },
    {
      "cell_type": "code",
      "execution_count": 9,
      "metadata": {
        "id": "jUeJn7Eq5YJ9"
      },
      "outputs": [],
      "source": [
        "# Reset index tanpa menyimpan index lama\n",
        "df_reset = df.reset_index(drop=True)"
      ]
    },
    {
      "cell_type": "markdown",
      "metadata": {
        "id": "WjgSwmEa3YpB"
      },
      "source": [
        "Cleaning Data"
      ]
    },
    {
      "cell_type": "code",
      "execution_count": 10,
      "metadata": {
        "id": "VIlf3jVv3qdC"
      },
      "outputs": [],
      "source": [
        "df['filered_text']=df['news'].apply(clean)"
      ]
    },
    {
      "cell_type": "code",
      "execution_count": 11,
      "metadata": {
        "colab": {
          "base_uri": "https://localhost:8080/",
          "height": 293
        },
        "id": "AhHv4Dl-3rcB",
        "outputId": "f44efa75-1247-4eec-e632-032896cea27f"
      },
      "outputs": [
        {
          "data": {
            "text/html": [
              "<div>\n",
              "<style scoped>\n",
              "    .dataframe tbody tr th:only-of-type {\n",
              "        vertical-align: middle;\n",
              "    }\n",
              "\n",
              "    .dataframe tbody tr th {\n",
              "        vertical-align: top;\n",
              "    }\n",
              "\n",
              "    .dataframe thead th {\n",
              "        text-align: right;\n",
              "    }\n",
              "</style>\n",
              "<table border=\"1\" class=\"dataframe\">\n",
              "  <thead>\n",
              "    <tr style=\"text-align: right;\">\n",
              "      <th></th>\n",
              "      <th>title</th>\n",
              "      <th>text</th>\n",
              "      <th>label</th>\n",
              "      <th>news</th>\n",
              "      <th>cleaned_text</th>\n",
              "      <th>cleaned_title</th>\n",
              "      <th>filered_text</th>\n",
              "    </tr>\n",
              "  </thead>\n",
              "  <tbody>\n",
              "    <tr>\n",
              "      <th>0</th>\n",
              "      <td>You Can Smell Hillary’s Fear</td>\n",
              "      <td>Daniel Greenfield, a Shillman Journalism Fello...</td>\n",
              "      <td>0</td>\n",
              "      <td>You Can Smell Hillary’s FearDaniel Greenfield,...</td>\n",
              "      <td>daniel greenfield shillman journalism fellow f...</td>\n",
              "      <td>smell hillary’s fear</td>\n",
              "      <td>smell hillary’s feardaniel greenfield shillman...</td>\n",
              "    </tr>\n",
              "    <tr>\n",
              "      <th>1</th>\n",
              "      <td>Watch The Exact Moment Paul Ryan Committed Pol...</td>\n",
              "      <td>Google Pinterest Digg Linkedin Reddit Stumbleu...</td>\n",
              "      <td>0</td>\n",
              "      <td>Watch The Exact Moment Paul Ryan Committed Pol...</td>\n",
              "      <td>google pinterest digg linkedin reddit stumbleu...</td>\n",
              "      <td>watch exact moment paul ryan committed politic...</td>\n",
              "      <td>watch exact moment paul ryan committed politic...</td>\n",
              "    </tr>\n",
              "    <tr>\n",
              "      <th>2</th>\n",
              "      <td>Kerry to go to Paris in gesture of sympathy</td>\n",
              "      <td>U.S. Secretary of State John F. Kerry said Mon...</td>\n",
              "      <td>1</td>\n",
              "      <td>Kerry to go to Paris in gesture of sympathyU.S...</td>\n",
              "      <td>u secretary state john f kerry said monday sto...</td>\n",
              "      <td>kerry go paris gesture sympathy</td>\n",
              "      <td>kerry go paris gesture sympathyus secretary st...</td>\n",
              "    </tr>\n",
              "    <tr>\n",
              "      <th>3</th>\n",
              "      <td>Bernie supporters on Twitter erupt in anger ag...</td>\n",
              "      <td>— Kaydee King (@KaydeeKing) November 9, 2016 T...</td>\n",
              "      <td>0</td>\n",
              "      <td>Bernie supporters on Twitter erupt in anger ag...</td>\n",
              "      <td>— kaydee king kaydeeking november lesson tonig...</td>\n",
              "      <td>bernie supporter twitter erupt anger dnc tried...</td>\n",
              "      <td>bernie supporter twitter erupt anger dnc tried...</td>\n",
              "    </tr>\n",
              "    <tr>\n",
              "      <th>4</th>\n",
              "      <td>The Battle of New York: Why This Primary Matters</td>\n",
              "      <td>It's primary day in New York and front-runners...</td>\n",
              "      <td>1</td>\n",
              "      <td>The Battle of New York: Why This Primary Matte...</td>\n",
              "      <td>primary day new york frontrunners hillary clin...</td>\n",
              "      <td>battle new york primary matter</td>\n",
              "      <td>battle new york primary mattersits primary day...</td>\n",
              "    </tr>\n",
              "  </tbody>\n",
              "</table>\n",
              "</div>"
            ],
            "text/plain": [
              "                                               title  \\\n",
              "0                       You Can Smell Hillary’s Fear   \n",
              "1  Watch The Exact Moment Paul Ryan Committed Pol...   \n",
              "2        Kerry to go to Paris in gesture of sympathy   \n",
              "3  Bernie supporters on Twitter erupt in anger ag...   \n",
              "4   The Battle of New York: Why This Primary Matters   \n",
              "\n",
              "                                                text  label  \\\n",
              "0  Daniel Greenfield, a Shillman Journalism Fello...      0   \n",
              "1  Google Pinterest Digg Linkedin Reddit Stumbleu...      0   \n",
              "2  U.S. Secretary of State John F. Kerry said Mon...      1   \n",
              "3  — Kaydee King (@KaydeeKing) November 9, 2016 T...      0   \n",
              "4  It's primary day in New York and front-runners...      1   \n",
              "\n",
              "                                                news  \\\n",
              "0  You Can Smell Hillary’s FearDaniel Greenfield,...   \n",
              "1  Watch The Exact Moment Paul Ryan Committed Pol...   \n",
              "2  Kerry to go to Paris in gesture of sympathyU.S...   \n",
              "3  Bernie supporters on Twitter erupt in anger ag...   \n",
              "4  The Battle of New York: Why This Primary Matte...   \n",
              "\n",
              "                                        cleaned_text  \\\n",
              "0  daniel greenfield shillman journalism fellow f...   \n",
              "1  google pinterest digg linkedin reddit stumbleu...   \n",
              "2  u secretary state john f kerry said monday sto...   \n",
              "3  — kaydee king kaydeeking november lesson tonig...   \n",
              "4  primary day new york frontrunners hillary clin...   \n",
              "\n",
              "                                       cleaned_title  \\\n",
              "0                               smell hillary’s fear   \n",
              "1  watch exact moment paul ryan committed politic...   \n",
              "2                    kerry go paris gesture sympathy   \n",
              "3  bernie supporter twitter erupt anger dnc tried...   \n",
              "4                     battle new york primary matter   \n",
              "\n",
              "                                        filered_text  \n",
              "0  smell hillary’s feardaniel greenfield shillman...  \n",
              "1  watch exact moment paul ryan committed politic...  \n",
              "2  kerry go paris gesture sympathyus secretary st...  \n",
              "3  bernie supporter twitter erupt anger dnc tried...  \n",
              "4  battle new york primary mattersits primary day...  "
            ]
          },
          "execution_count": 11,
          "metadata": {},
          "output_type": "execute_result"
        }
      ],
      "source": [
        "df.head()"
      ]
    },
    {
      "cell_type": "markdown",
      "metadata": {
        "id": "rm52fJVU7mL7"
      },
      "source": [
        "Tokenization"
      ]
    },
    {
      "cell_type": "code",
      "execution_count": 12,
      "metadata": {
        "id": "CYrGvZrA7lLX"
      },
      "outputs": [],
      "source": [
        "# Text Vectorization\n",
        "tfidf_vectorizer = TfidfVectorizer(max_features=5000)\n",
        "X = tfidf_vectorizer.fit_transform(df['cleaned_text'])\n",
        "y = df['label']"
      ]
    },
    {
      "cell_type": "code",
      "execution_count": 13,
      "metadata": {
        "colab": {
          "base_uri": "https://localhost:8080/"
        },
        "id": "ozZMvxW2yHnB",
        "outputId": "9fd386e8-13b6-426b-f9ba-dbc5655d7ffa"
      },
      "outputs": [
        {
          "data": {
            "text/plain": [
              "(6335, 5000)"
            ]
          },
          "execution_count": 13,
          "metadata": {},
          "output_type": "execute_result"
        }
      ],
      "source": [
        "X.shape"
      ]
    },
    {
      "cell_type": "code",
      "execution_count": 14,
      "metadata": {
        "colab": {
          "base_uri": "https://localhost:8080/"
        },
        "id": "lce-UCX7yLxR",
        "outputId": "4bcbb8f9-8893-4388-9d42-a3681f317d0d"
      },
      "outputs": [
        {
          "data": {
            "text/plain": [
              "(6335,)"
            ]
          },
          "execution_count": 14,
          "metadata": {},
          "output_type": "execute_result"
        }
      ],
      "source": [
        "y.shape"
      ]
    },
    {
      "cell_type": "code",
      "execution_count": 15,
      "metadata": {
        "id": "ngK7RN0wtmCh"
      },
      "outputs": [],
      "source": [
        "# Train-test split\n",
        "X_train, X_test, y_train, y_test = train_test_split(X, y, test_size=0.2, random_state=42)"
      ]
    },
    {
      "cell_type": "code",
      "execution_count": 16,
      "metadata": {
        "id": "z6ZoRT4ktqJu"
      },
      "outputs": [],
      "source": [
        "# Model Training and Evaluation\n",
        "def evaluate_model(model):\n",
        "    model.fit(X_train, y_train)\n",
        "    y_pred = model.predict(X_test)\n",
        "    print(f\"Accuracy: {accuracy_score(y_test, y_pred)}\")\n",
        "    print(f\"Classification Report:\\n {classification_report(y_test, y_pred)}\")\n",
        "    cm = confusion_matrix(y_test, y_pred)"
      ]
    },
    {
      "cell_type": "markdown",
      "metadata": {
        "id": "rcdQiRas7sgA"
      },
      "source": [
        "Models dan Metrics"
      ]
    },
    {
      "cell_type": "code",
      "execution_count": 17,
      "metadata": {
        "colab": {
          "base_uri": "https://localhost:8080/"
        },
        "id": "MEjAAjLPyS1B",
        "outputId": "af7f3075-4171-4e54-e7d7-00942395c665"
      },
      "outputs": [
        {
          "name": "stdout",
          "output_type": "stream",
          "text": [
            "Naive Bayes:\n",
            "Accuracy: 0.8918705603788477\n",
            "Classification Report:\n",
            "               precision    recall  f1-score   support\n",
            "\n",
            "           0       0.88      0.90      0.89       628\n",
            "           1       0.90      0.88      0.89       639\n",
            "\n",
            "    accuracy                           0.89      1267\n",
            "   macro avg       0.89      0.89      0.89      1267\n",
            "weighted avg       0.89      0.89      0.89      1267\n",
            "\n"
          ]
        }
      ],
      "source": [
        "# Naive Bayes\n",
        "print(\"Naive Bayes:\")\n",
        "nb_model = MultinomialNB()\n",
        "evaluate_model(nb_model)"
      ]
    },
    {
      "cell_type": "code",
      "execution_count": 18,
      "metadata": {
        "colab": {
          "base_uri": "https://localhost:8080/"
        },
        "id": "F-mQt_ADyTec",
        "outputId": "09b6bd5f-7424-4a0c-d6cf-65d43b45be9b"
      },
      "outputs": [
        {
          "name": "stdout",
          "output_type": "stream",
          "text": [
            "Logistic Regression:\n",
            "Accuracy: 0.914759273875296\n",
            "Classification Report:\n",
            "               precision    recall  f1-score   support\n",
            "\n",
            "           0       0.91      0.92      0.91       628\n",
            "           1       0.92      0.91      0.91       639\n",
            "\n",
            "    accuracy                           0.91      1267\n",
            "   macro avg       0.91      0.91      0.91      1267\n",
            "weighted avg       0.91      0.91      0.91      1267\n",
            "\n"
          ]
        }
      ],
      "source": [
        "# Logistic Regression\n",
        "print(\"Logistic Regression:\")\n",
        "lr_model = LogisticRegression(max_iter=1000)\n",
        "evaluate_model(lr_model)"
      ]
    },
    {
      "cell_type": "code",
      "execution_count": 19,
      "metadata": {
        "colab": {
          "base_uri": "https://localhost:8080/"
        },
        "id": "00euLF6uyU-p",
        "outputId": "42a4414e-889c-44e4-aba5-0d7c414874ee"
      },
      "outputs": [
        {
          "name": "stdout",
          "output_type": "stream",
          "text": [
            "Support Vector Machine:\n",
            "Accuracy: 0.9234411996842936\n",
            "Classification Report:\n",
            "               precision    recall  f1-score   support\n",
            "\n",
            "           0       0.92      0.93      0.92       628\n",
            "           1       0.93      0.92      0.92       639\n",
            "\n",
            "    accuracy                           0.92      1267\n",
            "   macro avg       0.92      0.92      0.92      1267\n",
            "weighted avg       0.92      0.92      0.92      1267\n",
            "\n"
          ]
        }
      ],
      "source": [
        "# Support Vector Machine\n",
        "print(\"Support Vector Machine:\")\n",
        "svm_model = SVC(kernel='linear')\n",
        "evaluate_model(svm_model)"
      ]
    },
    {
      "cell_type": "code",
      "execution_count": 20,
      "metadata": {
        "colab": {
          "base_uri": "https://localhost:8080/"
        },
        "id": "YmjgbNCFyW3_",
        "outputId": "c4f86260-0815-4b20-aa6c-57d3387b06ba"
      },
      "outputs": [
        {
          "name": "stdout",
          "output_type": "stream",
          "text": [
            "Gradient Boosting Classifier:\n",
            "Accuracy: 0.8966061562746646\n",
            "Classification Report:\n",
            "               precision    recall  f1-score   support\n",
            "\n",
            "           0       0.88      0.91      0.90       628\n",
            "           1       0.91      0.88      0.90       639\n",
            "\n",
            "    accuracy                           0.90      1267\n",
            "   macro avg       0.90      0.90      0.90      1267\n",
            "weighted avg       0.90      0.90      0.90      1267\n",
            "\n"
          ]
        }
      ],
      "source": [
        "# Gradient Boosting Classifier\n",
        "print(\"Gradient Boosting Classifier:\")\n",
        "gbc_model = GradientBoostingClassifier()\n",
        "evaluate_model(gbc_model)"
      ]
    },
    {
      "cell_type": "markdown",
      "metadata": {
        "id": "XacTRxV0I3xI"
      },
      "source": [
        "# Hyperparameter Tuning for the best performing model (example: SVM)\n",
        "param_grid = {'C': [0.1, 1, 10, 100], 'kernel': ['linear', 'rbf']}\n",
        "grid_search = GridSearchCV(SVC(), param_grid, refit=True, verbose=2, cv=5)\n",
        "grid_search.fit(X_train, y_train)\n",
        "print(\"Best parameters found: \", grid_search.best_params_)\n",
        "evaluate_model(grid_search.best_estimator_)"
      ]
    },
    {
      "cell_type": "code",
      "execution_count": 21,
      "metadata": {
        "id": "k6d6uFvBLiD2"
      },
      "outputs": [],
      "source": [
        "import joblib"
      ]
    },
    {
      "cell_type": "code",
      "execution_count": 22,
      "metadata": {
        "colab": {
          "base_uri": "https://localhost:8080/"
        },
        "id": "_B3_N121IeqB",
        "outputId": "eb92e7bf-6492-4d5d-8a0a-92ce193fffe8"
      },
      "outputs": [
        {
          "data": {
            "text/plain": [
              "['tfidf_vectorizer.pkl']"
            ]
          },
          "execution_count": 22,
          "metadata": {},
          "output_type": "execute_result"
        }
      ],
      "source": [
        "# Save the trained logistic regression model\n",
        "joblib.dump(svm_model, 'svm.pkl')\n",
        "\n",
        "# Save the TF-IDF vectorizer\n",
        "joblib.dump(tfidf_vectorizer, 'tfidf_vectorizer.pkl')"
      ]
    }
  ],
  "metadata": {
    "accelerator": "GPU",
    "colab": {
      "gpuType": "T4",
      "history_visible": true,
      "provenance": []
    },
    "kernelspec": {
      "display_name": "Python 3",
      "name": "python3"
    },
    "language_info": {
      "codemirror_mode": {
        "name": "ipython",
        "version": 3
      },
      "file_extension": ".py",
      "mimetype": "text/x-python",
      "name": "python",
      "nbconvert_exporter": "python",
      "pygments_lexer": "ipython3",
      "version": "3.10.7"
    }
  },
  "nbformat": 4,
  "nbformat_minor": 0
}
